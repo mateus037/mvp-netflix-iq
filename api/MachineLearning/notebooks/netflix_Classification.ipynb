{
 "cells": [
  {
   "cell_type": "markdown",
   "id": "a92c9805",
   "metadata": {},
   "source": [
    "## Netflix Movies and TV Shows"
   ]
  },
  {
   "cell_type": "code",
   "execution_count": 12,
   "id": "e8816554",
   "metadata": {},
   "outputs": [],
   "source": [
    "import pandas as pd\n",
    "import numpy as np\n",
    "import matplotlib.pyplot as plt\n",
    "import seaborn as sns\n",
    "\n",
    "from sklearn.model_selection import train_test_split, StratifiedKFold, cross_val_score, GridSearchCV\n",
    "from sklearn.preprocessing import StandardScaler, MinMaxScaler, OneHotEncoder\n",
    "from sklearn.compose import ColumnTransformer\n",
    "from sklearn.pipeline import Pipeline\n",
    "from sklearn.impute import SimpleImputer\n",
    "from sklearn.metrics import classification_report, accuracy_score, confusion_matrix\n",
    "from sklearn.naive_bayes import GaussianNB\n",
    "from sklearn.tree import DecisionTreeClassifier\n",
    "from sklearn.neighbors import KNeighborsClassifier\n",
    "from sklearn.svm import SVC\n",
    "from sklearn.linear_model import LogisticRegression\n",
    "import pickle\n",
    "\n",
    "import warnings\n",
    "warnings.filterwarnings(\"ignore\")"
   ]
  },
  {
   "cell_type": "markdown",
   "id": "c66b05e9",
   "metadata": {},
   "source": [
    "## Carga do Dataset\n",
    "\n",
    "O dataset contém informações sobre filmes e séries disponíveis na Netflix, incluindo título, gênero, país, data de adição, classificação etária, duração, tipo (filme ou série) e descrição.\n",
    "\n",
    "Descrição de cada coluna:\n",
    "- show_id: Identificador único do show.\n",
    "- type: Tipo do show (Filme ou Série).\n",
    "- title: Título do show.\n",
    "- director: Diretor do show.\n",
    "- cast: Elenco do show.\n",
    "- country: País de origem do show.\n",
    "- date_added: Data em que o show foi adicionado à Netflix.\n",
    "- release_year: Ano de lançamento do show.\n",
    "- rating: Classificação etária do show.\n",
    "- duration: Duração do show (em minutos para filmes, número de temporadas para séries).\n",
    "- listed_in: Gêneros do show."
   ]
  },
  {
   "cell_type": "code",
   "execution_count": 13,
   "id": "d3400d0c",
   "metadata": {},
   "outputs": [
    {
     "name": "stdout",
     "output_type": "stream",
     "text": [
      "<class 'pandas.core.frame.DataFrame'>\n",
      "RangeIndex: 8807 entries, 0 to 8806\n",
      "Data columns (total 12 columns):\n",
      " #   Column        Non-Null Count  Dtype \n",
      "---  ------        --------------  ----- \n",
      " 0   show_id       8807 non-null   object\n",
      " 1   type          8807 non-null   object\n",
      " 2   title         8807 non-null   object\n",
      " 3   director      6173 non-null   object\n",
      " 4   cast          7982 non-null   object\n",
      " 5   country       7976 non-null   object\n",
      " 6   date_added    8797 non-null   object\n",
      " 7   release_year  8807 non-null   int64 \n",
      " 8   rating        8803 non-null   object\n",
      " 9   duration      8804 non-null   object\n",
      " 10  listed_in     8807 non-null   object\n",
      " 11  description   8807 non-null   object\n",
      "dtypes: int64(1), object(11)\n",
      "memory usage: 825.8+ KB\n"
     ]
    }
   ],
   "source": [
    "# Carrega o dataset\n",
    "data = pd.read_csv('../data/netflix_titles.csv')\n",
    "\n",
    "# Exibe informações básicas do dataset\n",
    "data.info()"
   ]
  },
  {
   "cell_type": "code",
   "execution_count": 14,
   "id": "669ff606",
   "metadata": {},
   "outputs": [
    {
     "data": {
      "text/html": [
       "<div>\n",
       "<style scoped>\n",
       "    .dataframe tbody tr th:only-of-type {\n",
       "        vertical-align: middle;\n",
       "    }\n",
       "\n",
       "    .dataframe tbody tr th {\n",
       "        vertical-align: top;\n",
       "    }\n",
       "\n",
       "    .dataframe thead th {\n",
       "        text-align: right;\n",
       "    }\n",
       "</style>\n",
       "<table border=\"1\" class=\"dataframe\">\n",
       "  <thead>\n",
       "    <tr style=\"text-align: right;\">\n",
       "      <th></th>\n",
       "      <th>show_id</th>\n",
       "      <th>type</th>\n",
       "      <th>title</th>\n",
       "      <th>director</th>\n",
       "      <th>cast</th>\n",
       "      <th>country</th>\n",
       "      <th>date_added</th>\n",
       "      <th>release_year</th>\n",
       "      <th>rating</th>\n",
       "      <th>duration</th>\n",
       "      <th>listed_in</th>\n",
       "      <th>description</th>\n",
       "    </tr>\n",
       "  </thead>\n",
       "  <tbody>\n",
       "    <tr>\n",
       "      <th>0</th>\n",
       "      <td>s1</td>\n",
       "      <td>Movie</td>\n",
       "      <td>Dick Johnson Is Dead</td>\n",
       "      <td>Kirsten Johnson</td>\n",
       "      <td>NaN</td>\n",
       "      <td>United States</td>\n",
       "      <td>September 25, 2021</td>\n",
       "      <td>2020</td>\n",
       "      <td>PG-13</td>\n",
       "      <td>90 min</td>\n",
       "      <td>Documentaries</td>\n",
       "      <td>As her father nears the end of his life, filmm...</td>\n",
       "    </tr>\n",
       "    <tr>\n",
       "      <th>1</th>\n",
       "      <td>s2</td>\n",
       "      <td>TV Show</td>\n",
       "      <td>Blood &amp; Water</td>\n",
       "      <td>NaN</td>\n",
       "      <td>Ama Qamata, Khosi Ngema, Gail Mabalane, Thaban...</td>\n",
       "      <td>South Africa</td>\n",
       "      <td>September 24, 2021</td>\n",
       "      <td>2021</td>\n",
       "      <td>TV-MA</td>\n",
       "      <td>2 Seasons</td>\n",
       "      <td>International TV Shows, TV Dramas, TV Mysteries</td>\n",
       "      <td>After crossing paths at a party, a Cape Town t...</td>\n",
       "    </tr>\n",
       "    <tr>\n",
       "      <th>2</th>\n",
       "      <td>s3</td>\n",
       "      <td>TV Show</td>\n",
       "      <td>Ganglands</td>\n",
       "      <td>Julien Leclercq</td>\n",
       "      <td>Sami Bouajila, Tracy Gotoas, Samuel Jouy, Nabi...</td>\n",
       "      <td>NaN</td>\n",
       "      <td>September 24, 2021</td>\n",
       "      <td>2021</td>\n",
       "      <td>TV-MA</td>\n",
       "      <td>1 Season</td>\n",
       "      <td>Crime TV Shows, International TV Shows, TV Act...</td>\n",
       "      <td>To protect his family from a powerful drug lor...</td>\n",
       "    </tr>\n",
       "    <tr>\n",
       "      <th>3</th>\n",
       "      <td>s4</td>\n",
       "      <td>TV Show</td>\n",
       "      <td>Jailbirds New Orleans</td>\n",
       "      <td>NaN</td>\n",
       "      <td>NaN</td>\n",
       "      <td>NaN</td>\n",
       "      <td>September 24, 2021</td>\n",
       "      <td>2021</td>\n",
       "      <td>TV-MA</td>\n",
       "      <td>1 Season</td>\n",
       "      <td>Docuseries, Reality TV</td>\n",
       "      <td>Feuds, flirtations and toilet talk go down amo...</td>\n",
       "    </tr>\n",
       "    <tr>\n",
       "      <th>4</th>\n",
       "      <td>s5</td>\n",
       "      <td>TV Show</td>\n",
       "      <td>Kota Factory</td>\n",
       "      <td>NaN</td>\n",
       "      <td>Mayur More, Jitendra Kumar, Ranjan Raj, Alam K...</td>\n",
       "      <td>India</td>\n",
       "      <td>September 24, 2021</td>\n",
       "      <td>2021</td>\n",
       "      <td>TV-MA</td>\n",
       "      <td>2 Seasons</td>\n",
       "      <td>International TV Shows, Romantic TV Shows, TV ...</td>\n",
       "      <td>In a city of coaching centers known to train I...</td>\n",
       "    </tr>\n",
       "  </tbody>\n",
       "</table>\n",
       "</div>"
      ],
      "text/plain": [
       "  show_id     type                  title         director  \\\n",
       "0      s1    Movie   Dick Johnson Is Dead  Kirsten Johnson   \n",
       "1      s2  TV Show          Blood & Water              NaN   \n",
       "2      s3  TV Show              Ganglands  Julien Leclercq   \n",
       "3      s4  TV Show  Jailbirds New Orleans              NaN   \n",
       "4      s5  TV Show           Kota Factory              NaN   \n",
       "\n",
       "                                                cast        country  \\\n",
       "0                                                NaN  United States   \n",
       "1  Ama Qamata, Khosi Ngema, Gail Mabalane, Thaban...   South Africa   \n",
       "2  Sami Bouajila, Tracy Gotoas, Samuel Jouy, Nabi...            NaN   \n",
       "3                                                NaN            NaN   \n",
       "4  Mayur More, Jitendra Kumar, Ranjan Raj, Alam K...          India   \n",
       "\n",
       "           date_added  release_year rating   duration  \\\n",
       "0  September 25, 2021          2020  PG-13     90 min   \n",
       "1  September 24, 2021          2021  TV-MA  2 Seasons   \n",
       "2  September 24, 2021          2021  TV-MA   1 Season   \n",
       "3  September 24, 2021          2021  TV-MA   1 Season   \n",
       "4  September 24, 2021          2021  TV-MA  2 Seasons   \n",
       "\n",
       "                                           listed_in  \\\n",
       "0                                      Documentaries   \n",
       "1    International TV Shows, TV Dramas, TV Mysteries   \n",
       "2  Crime TV Shows, International TV Shows, TV Act...   \n",
       "3                             Docuseries, Reality TV   \n",
       "4  International TV Shows, Romantic TV Shows, TV ...   \n",
       "\n",
       "                                         description  \n",
       "0  As her father nears the end of his life, filmm...  \n",
       "1  After crossing paths at a party, a Cape Town t...  \n",
       "2  To protect his family from a powerful drug lor...  \n",
       "3  Feuds, flirtations and toilet talk go down amo...  \n",
       "4  In a city of coaching centers known to train I...  "
      ]
     },
     "execution_count": 14,
     "metadata": {},
     "output_type": "execute_result"
    }
   ],
   "source": [
    "# Mostra as primeiras linhas do dataset\n",
    "data.head()"
   ]
  },
  {
   "cell_type": "markdown",
   "id": "59ca0a45",
   "metadata": {},
   "source": [
    "## Limpeza e seleção de colunas úteis"
   ]
  },
  {
   "cell_type": "code",
   "execution_count": 15,
   "id": "bb373e25",
   "metadata": {},
   "outputs": [],
   "source": [
    "selected_features = ['country', 'release_year', 'rating', 'duration', 'listed_in']\n",
    "data = data[['type'] + selected_features].dropna()\n",
    "\n",
    "# Converter a coluna \"duration\" para minutos (filmes) ou temporadas (séries)\n",
    "data['duration_int'] = data['duration'].str.extract('(\\d+)').astype(int)\n",
    "\n",
    "data = data.drop(columns=['duration'])\n"
   ]
  },
  {
   "cell_type": "markdown",
   "id": "b4b9391b",
   "metadata": {},
   "source": [
    "## Transformador de Dados"
   ]
  },
  {
   "cell_type": "code",
   "execution_count": 16,
   "id": "919c171f",
   "metadata": {},
   "outputs": [],
   "source": [
    "X = data.drop(columns=['type'])\n",
    "y = data['type']\n",
    "\n",
    "numeric_features = ['release_year', 'duration_int']\n",
    "categorical_features = ['country', 'rating', 'listed_in']\n",
    "\n",
    "numeric_transformer = Pipeline(steps=[\n",
    "    ('imputer', SimpleImputer(strategy='median')),\n",
    "    ('scaler', StandardScaler())\n",
    "])\n",
    "\n",
    "categorical_transformer = Pipeline(steps=[\n",
    "    ('imputer', SimpleImputer(strategy='most_frequent')),\n",
    "    ('onehot', OneHotEncoder(handle_unknown='ignore', sparse_output=False))\n",
    "])\n",
    "\n",
    "preprocessor = ColumnTransformer(\n",
    "    transformers=[\n",
    "        ('num', numeric_transformer, numeric_features),\n",
    "        ('cat', categorical_transformer, categorical_features)\n",
    "    ])"
   ]
  },
  {
   "cell_type": "markdown",
   "id": "7ed6ed86",
   "metadata": {},
   "source": [
    "## Separação em conjunto de treino e conjunto de teste com holdout"
   ]
  },
  {
   "cell_type": "code",
   "execution_count": 17,
   "id": "5a877f63",
   "metadata": {},
   "outputs": [],
   "source": [
    "X_train, X_test, y_train, y_test = train_test_split(\n",
    "    X, y, test_size=0.2, stratify=y, random_state=42)"
   ]
  },
  {
   "cell_type": "markdown",
   "id": "bdf65167",
   "metadata": {},
   "source": [
    "## Modelagem com pipelines e gridsearch"
   ]
  },
  {
   "cell_type": "code",
   "execution_count": 18,
   "id": "2f7032cd",
   "metadata": {},
   "outputs": [
    {
     "name": "stdout",
     "output_type": "stream",
     "text": [
      "\n",
      "Treinando modelo: Decision Tree\n",
      "Melhores hiperparâmetros: {'clf__max_depth': 3}\n",
      "Accuracy: 0.998745294855709\n",
      "              precision    recall  f1-score   support\n",
      "\n",
      "       Movie       1.00      1.00      1.00      1137\n",
      "     TV Show       1.00      1.00      1.00       457\n",
      "\n",
      "    accuracy                           1.00      1594\n",
      "   macro avg       1.00      1.00      1.00      1594\n",
      "weighted avg       1.00      1.00      1.00      1594\n",
      "\n",
      "\n",
      "Treinando modelo: KNN\n",
      "Melhores hiperparâmetros: {'clf__n_neighbors': 3}\n",
      "Accuracy: 0.9981179422835633\n",
      "              precision    recall  f1-score   support\n",
      "\n",
      "       Movie       1.00      1.00      1.00      1137\n",
      "     TV Show       1.00      1.00      1.00       457\n",
      "\n",
      "    accuracy                           1.00      1594\n",
      "   macro avg       1.00      1.00      1.00      1594\n",
      "weighted avg       1.00      1.00      1.00      1594\n",
      "\n",
      "\n",
      "Treinando modelo: Naive Bayes\n",
      "Melhores hiperparâmetros: {'clf__var_smoothing': 1e-07}\n",
      "Accuracy: 0.9974905897114178\n",
      "              precision    recall  f1-score   support\n",
      "\n",
      "       Movie       1.00      1.00      1.00      1137\n",
      "     TV Show       0.99      1.00      1.00       457\n",
      "\n",
      "    accuracy                           1.00      1594\n",
      "   macro avg       1.00      1.00      1.00      1594\n",
      "weighted avg       1.00      1.00      1.00      1594\n",
      "\n",
      "\n",
      "Treinando modelo: SVM\n",
      "Melhores hiperparâmetros: {'clf__C': 10}\n",
      "Accuracy: 0.9981179422835633\n",
      "              precision    recall  f1-score   support\n",
      "\n",
      "       Movie       1.00      1.00      1.00      1137\n",
      "     TV Show       1.00      1.00      1.00       457\n",
      "\n",
      "    accuracy                           1.00      1594\n",
      "   macro avg       1.00      1.00      1.00      1594\n",
      "weighted avg       1.00      1.00      1.00      1594\n",
      "\n"
     ]
    }
   ],
   "source": [
    "models = {\n",
    "    'Decision Tree': DecisionTreeClassifier(),\n",
    "    'KNN': KNeighborsClassifier(),\n",
    "    'Naive Bayes': GaussianNB(),\n",
    "    'SVM': SVC()\n",
    "}\n",
    "\n",
    "param_grid = {\n",
    "    'Decision Tree': {'clf__max_depth': [3, 5, 10]},\n",
    "    'KNN': {'clf__n_neighbors': [3, 5, 7]},\n",
    "    'Naive Bayes': {'clf__var_smoothing': [1e-9, 1e-8, 1e-7]},\n",
    "    'SVM': {'clf__C': [0.1, 1, 10]}\n",
    "}\n",
    "\n",
    "best_models = {}\n",
    "cv_results = {}\n",
    "\n",
    "skf = StratifiedKFold(n_splits=5, shuffle=True, random_state=42)\n",
    "\n",
    "for name, model in models.items():\n",
    "    print(f\"\\nTreinando modelo: {name}\")\n",
    "    pipeline = Pipeline(steps=[\n",
    "        ('preprocessor', preprocessor),\n",
    "        ('clf', model)\n",
    "    ])\n",
    "    # O GridSearchCV, que por baixo dos panos usa cross_val_score internamente quando recebe o argumento cv=skf\n",
    "    grid = GridSearchCV(pipeline, param_grid[name], cv=skf, scoring='accuracy', return_train_score=True)\n",
    "    grid.fit(X_train, y_train)\n",
    "    \n",
    "    print(\"Melhores hiperparâmetros:\", grid.best_params_)\n",
    "    y_pred = grid.predict(X_test)\n",
    "    print(\"Accuracy:\", accuracy_score(y_test, y_pred))\n",
    "    print(classification_report(y_test, y_pred))\n",
    "\n",
    "    best_models[name] = grid.best_estimator_\n",
    "    cv_results[name] = grid.cv_results_['mean_test_score']"
   ]
  },
  {
   "cell_type": "markdown",
   "id": "04109311",
   "metadata": {},
   "source": [
    "## Comparar resultados"
   ]
  },
  {
   "cell_type": "code",
   "execution_count": 19,
   "id": "bfc70fce",
   "metadata": {},
   "outputs": [
    {
     "name": "stdout",
     "output_type": "stream",
     "text": [
      "\n",
      "\n",
      "== Comparativo de Modelos ==\n",
      "Decision Tree: 0.9987\n",
      "KNN: 0.9981\n",
      "Naive Bayes: 0.9975\n",
      "SVM: 0.9981\n"
     ]
    }
   ],
   "source": [
    "print(\"\\n\\n== Comparativo de Modelos ==\")\n",
    "accs = []\n",
    "for name, model in best_models.items():\n",
    "    y_pred = model.predict(X_test)\n",
    "    acc = accuracy_score(y_test, y_pred)\n",
    "    accs.append(acc)\n",
    "    print(f\"{name}: {acc:.4f}\")"
   ]
  },
  {
   "cell_type": "markdown",
   "id": "3bc58ccd",
   "metadata": {},
   "source": [
    "## Boxplot de comparação"
   ]
  },
  {
   "cell_type": "code",
   "execution_count": 20,
   "id": "ffa67b78",
   "metadata": {},
   "outputs": [
    {
     "data": {
      "image/png": "[encoded data removed]",
      "text/plain": [
       "<Figure size 1000x600 with 1 Axes>"
      ]
     },
     "metadata": {},
     "output_type": "display_data"
    }
   ],
   "source": [
    "cv_scores_df = pd.DataFrame(dict([(k, v) for k, v in cv_results.items()]))\n",
    "plt.figure(figsize=(10, 6))\n",
    "sns.boxplot(data=cv_scores_df)\n",
    "plt.title('Comparação de Acurácia - Validação Cruzada')\n",
    "plt.ylabel('Acurácia')\n",
    "plt.xlabel('Modelos')\n",
    "plt.grid(True)\n",
    "plt.show()\n"
   ]
  },
  {
   "cell_type": "markdown",
   "id": "a0f0291a",
   "metadata": {},
   "source": [
    "## Exporta o melhor modelo"
   ]
  },
  {
   "cell_type": "code",
   "execution_count": 21,
   "id": "60ec56a7",
   "metadata": {},
   "outputs": [
    {
     "name": "stdout",
     "output_type": "stream",
     "text": [
      "\n",
      "Modelo exportado: Decision Tree\n"
     ]
    }
   ],
   "source": [
    "melhor_modelo = max(best_models.items(), key=lambda x: accuracy_score(y_test, x[1].predict(X_test)))\n",
    "with open('../models/netflix_classification.pkl', 'wb') as f:\n",
    "    pickle.dump(melhor_modelo[1], f)\n",
    "print(f\"\\nModelo exportado: {melhor_modelo[0]}\")"
   ]
  },
  {
   "cell_type": "markdown",
   "id": "e0e7a552",
   "metadata": {},
   "source": [
    "## Simulação com dados não vistos"
   ]
  },
  {
   "cell_type": "code",
   "execution_count": 22,
   "id": "3fc70e2f",
   "metadata": {},
   "outputs": [
    {
     "name": "stdout",
     "output_type": "stream",
     "text": [
      "\n",
      "Predição para novo dado: TV Show\n"
     ]
    }
   ],
   "source": [
    "novo_dado = pd.DataFrame([{\n",
    "    'country': 'United States',\n",
    "    'release_year': 2023,\n",
    "    'rating': 'TV-MA',\n",
    "    'listed_in': 'Dramas, International TV Shows',\n",
    "    'duration_int': 2\n",
    "}])\n",
    "\n",
    "predicao = melhor_modelo[1].predict(novo_dado)\n",
    "print(f\"\\nPredição para novo dado: {predicao[0]}\")"
   ]
  }
 ],
 "metadata": {
  "kernelspec": {
   "display_name": "Python 3",
   "language": "python",
   "name": "python3"
  },
  "language_info": {
   "codemirror_mode": {
    "name": "ipython",
    "version": 3
   },
   "file_extension": ".py",
   "mimetype": "text/x-python",
   "name": "python",
   "nbconvert_exporter": "python",
   "pygments_lexer": "ipython3",
   "version": "3.13.2"
  }
 },
 "nbformat": 4,
 "nbformat_minor": 5
}

{
 "cells": [
  {
   "cell_type": "markdown",
   "id": "2b2efcd7",
   "metadata": {},
   "source": [
    "# Netflix - Sistema de Recomendação por Similaridade de Conteúdo"
   ]
  },
  {
   "cell_type": "code",
   "execution_count": 16,
   "id": "ce39af9b",
   "metadata": {},
   "outputs": [],
   "source": [
    "import pandas as pd\n",
    "from sklearn.feature_extraction.text import TfidfVectorizer\n",
    "from sklearn.metrics.pairwise import cosine_similarity\n",
    "import numpy as np\n",
    "import pickle\n",
    "import warnings\n",
    "warnings.filterwarnings(\"ignore\")"
   ]
  },
  {
   "cell_type": "markdown",
   "id": "22138430",
   "metadata": {},
   "source": [
    "## Carga do Dataset\n",
    "\n",
    "O dataset contém informações sobre filmes e séries disponíveis na Netflix, incluindo título, gênero, país, data de adição, classificação etária, duração, tipo (filme ou série) e descrição.\n",
    "\n",
    "Descrição de cada coluna:\n",
    "- show_id: Identificador único do show.\n",
    "- type: Tipo do show (Filme ou Série).\n",
    "- title: Título do show.\n",
    "- director: Diretor do show.\n",
    "- cast: Elenco do show.\n",
    "- country: País de origem do show.\n",
    "- date_added: Data em que o show foi adicionado à Netflix.\n",
    "- release_year: Ano de lançamento do show.\n",
    "- rating: Classificação etária do show.\n",
    "- duration: Duração do show (em minutos para filmes, número de temporadas para séries).\n",
    "- listed_in: Gêneros do show."
   ]
  },
  {
   "cell_type": "code",
   "execution_count": 17,
   "id": "e71609f6",
   "metadata": {},
   "outputs": [],
   "source": [
    "# Carrega o dataset\n",
    "data = pd.read_csv('../data/netflix_titles.csv')"
   ]
  },
  {
   "cell_type": "markdown",
   "id": "7c5578e8",
   "metadata": {},
   "source": [
    "## Pré-processamento básico"
   ]
  },
  {
   "cell_type": "code",
   "execution_count": 18,
   "id": "ed910687",
   "metadata": {},
   "outputs": [],
   "source": [
    "# Preenche valores nulos com string vazia (para campos textuais)\n",
    "data['cast'] = data['cast'].fillna('')\n",
    "data['country'] = data['country'].fillna('')\n",
    "data['listed_in'] = data['listed_in'].fillna('')\n",
    "\n",
    "# Junta as colunas relevantes em uma só para vetorizacao\n",
    "data['conteudo'] = data['cast'] + ' ' + data['country'] + ' ' + data['listed_in']"
   ]
  },
  {
   "cell_type": "markdown",
   "id": "49338d7f",
   "metadata": {},
   "source": [
    "### Vetorização TF-IDF"
   ]
  },
  {
   "cell_type": "code",
   "execution_count": 19,
   "id": "22acd21c",
   "metadata": {},
   "outputs": [],
   "source": [
    "vectorizer = TfidfVectorizer(stop_words='english')\n",
    "tfidf_matrix = vectorizer.fit_transform(data['conteudo'])\n",
    "\n",
    "# Calcula a similaridade do cosseno\n",
    "cosine_sim = cosine_similarity(tfidf_matrix, tfidf_matrix)"
   ]
  },
  {
   "cell_type": "markdown",
   "id": "dee42d1e",
   "metadata": {},
   "source": [
    "### Função de recomendação por título"
   ]
  },
  {
   "cell_type": "code",
   "execution_count": 20,
   "id": "dbd95bad",
   "metadata": {},
   "outputs": [],
   "source": [
    "def get_recomendacoes(titulo, top_n=5):\n",
    "    # Verifica se o título existe\n",
    "    if titulo not in data['title'].values:\n",
    "        return [\"Título não encontrado\"]\n",
    "\n",
    "    # Índice do título\n",
    "    idx = data[data['title'] == titulo].index[0]\n",
    "\n",
    "    # Similaridades com todos os outros\n",
    "    sim_scores = list(enumerate(cosine_sim[idx]))\n",
    "    sim_scores = sorted(sim_scores, key=lambda x: x[1], reverse=True)\n",
    "    sim_scores = sim_scores[1:top_n+1]  # ignora o próprio título\n",
    "\n",
    "    # Índices dos recomendados\n",
    "    indices = [i[0] for i in sim_scores]\n",
    "\n",
    "    return data[['title', 'type', 'release_year', 'rating', 'listed_in']].iloc[indices].to_dict(orient='records')"
   ]
  },
  {
   "cell_type": "markdown",
   "id": "7d822579",
   "metadata": {},
   "source": [
    "### Função de recomendação por campos"
   ]
  },
  {
   "cell_type": "code",
   "execution_count": 21,
   "id": "68338621",
   "metadata": {},
   "outputs": [],
   "source": [
    "def recomendar_por_campos(fields, top_n=5):\n",
    "    # Monta string semelhante ao campo 'conteudo'\n",
    "    campos = [\n",
    "        fields.get('cast', ''),\n",
    "        fields.get('country', ''),\n",
    "        fields.get('listed_in', '')\n",
    "    ]\n",
    "    conteudo_novo = ' '.join(campos)\n",
    "\n",
    "    vetor = vectorizer.transform([conteudo_novo])\n",
    "    sim_scores = cosine_similarity(vetor, tfidf_matrix).flatten()\n",
    "    indices = np.argsort(sim_scores)[::-1][:top_n]\n",
    "    return data[['title', 'type', 'release_year']].iloc[indices].to_dict(orient='records')\n"
   ]
  },
  {
   "cell_type": "markdown",
   "id": "5317749f",
   "metadata": {},
   "source": [
    "### Exemplo de uso"
   ]
  },
  {
   "cell_type": "code",
   "execution_count": 22,
   "id": "655262ac",
   "metadata": {},
   "outputs": [
    {
     "name": "stdout",
     "output_type": "stream",
     "text": [
      "{'title': 'Naruto Shippûden the Movie: Bonds', 'type': 'Movie', 'release_year': 2008, 'rating': 'TV-PG', 'listed_in': 'Action & Adventure, Anime Features, International Movies'}\n",
      "{'title': 'Naruto Shippuden the Movie: Blood Prison', 'type': 'Movie', 'release_year': 2011, 'rating': 'TV-14', 'listed_in': 'Action & Adventure, Anime Features, International Movies'}\n",
      "{'title': 'Naruto Shippuden : Blood Prison', 'type': 'Movie', 'release_year': 2011, 'rating': 'TV-14', 'listed_in': 'Action & Adventure, Anime Features, International Movies'}\n",
      "{'title': 'Naruto the Movie: Ninja Clash in the Land of Snow', 'type': 'Movie', 'release_year': 2004, 'rating': 'TV-PG', 'listed_in': 'Action & Adventure, Anime Features, International Movies'}\n",
      "{'title': 'Naruto Shippûden the Movie: The Will of Fire', 'type': 'Movie', 'release_year': 2009, 'rating': 'TV-PG', 'listed_in': 'Action & Adventure, Anime Features, International Movies'}\n",
      "{'title': 'Pop Team Epic', 'type': 'TV Show', 'release_year': 2018}\n",
      "{'title': '忍者ハットリくん', 'type': 'TV Show', 'release_year': 2012}\n",
      "{'title': 'Sol Levante', 'type': 'Movie', 'release_year': 2020}\n",
      "{'title': 'Pui Pui Molcar', 'type': 'TV Show', 'release_year': 2021}\n",
      "{'title': 'Behind \"The Cove\": The Quiet Japanese Speak Out', 'type': 'Movie', 'release_year': 2015}\n"
     ]
    }
   ],
   "source": [
    "exemplo = get_recomendacoes('Naruto', top_n=5)\n",
    "for item in exemplo:\n",
    "    print(item)\n",
    "\n",
    "for item in recomendar_por_campos({'country': 'Japan', 'release_year': '2006', 'rating': 'TV-14', 'listed_in': 'Anime', 'duration': '9'}, top_n=5):\n",
    "    print(item)"
   ]
  },
  {
   "cell_type": "markdown",
   "id": "4567d835",
   "metadata": {},
   "source": [
    "### Exportação para uso no Flask"
   ]
  },
  {
   "cell_type": "code",
   "execution_count": 23,
   "id": "0798885a",
   "metadata": {},
   "outputs": [],
   "source": [
    "with open('../models/dados_netflix.pkl', 'wb') as f:\n",
    "    pickle.dump(data, f)\n",
    "\n",
    "with open('../models/cosine_sim.pkl', 'wb') as f:\n",
    "    pickle.dump(cosine_sim, f)\n",
    "\n",
    "with open('../models/vectorizer.pkl', 'wb') as f:\n",
    "    pickle.dump(vectorizer, f)"
   ]
  }
 ],
 "metadata": {
  "kernelspec": {
   "display_name": "Python 3",
   "language": "python",
   "name": "python3"
  },
  "language_info": {
   "codemirror_mode": {
    "name": "ipython",
    "version": 3
   },
   "file_extension": ".py",
   "mimetype": "text/x-python",
   "name": "python",
   "nbconvert_exporter": "python",
   "pygments_lexer": "ipython3",
   "version": "3.13.2"
  }
 },
 "nbformat": 4,
 "nbformat_minor": 5
}

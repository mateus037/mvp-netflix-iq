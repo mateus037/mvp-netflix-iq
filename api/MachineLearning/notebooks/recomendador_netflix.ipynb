{
 "cells": [
  {
   "cell_type": "markdown",
   "id": "2b2efcd7",
   "metadata": {},
   "source": [
    "# Netflix - Sistema de Recomendação por Similaridade de Conteúdo"
   ]
  },
  {
   "cell_type": "code",
   "execution_count": 26,
   "id": "ce39af9b",
   "metadata": {},
   "outputs": [],
   "source": [
    "import pandas as pd\n",
    "from sklearn.feature_extraction.text import TfidfVectorizer\n",
    "from sklearn.metrics.pairwise import cosine_similarity\n",
    "import numpy as np\n",
    "import pickle\n",
    "import warnings\n",
    "warnings.filterwarnings(\"ignore\")"
   ]
  },
  {
   "cell_type": "markdown",
   "id": "22138430",
   "metadata": {},
   "source": [
    "## Carga do Dataset\n",
    "\n",
    "O dataset contém informações sobre filmes e séries disponíveis na Netflix, incluindo título, gênero, país, data de adição, classificação etária, duração, tipo (filme ou série) e descrição.\n",
    "\n",
    "Descrição de cada coluna:\n",
    "- show_id: Identificador único do show.\n",
    "- type: Tipo do show (Filme ou Série).\n",
    "- title: Título do show.\n",
    "- director: Diretor do show.\n",
    "- cast: Elenco do show.\n",
    "- country: País de origem do show.\n",
    "- date_added: Data em que o show foi adicionado à Netflix.\n",
    "- release_year: Ano de lançamento do show.\n",
    "- rating: Classificação etária do show.\n",
    "- duration: Duração do show (em minutos para filmes, número de temporadas para séries).\n",
    "- listed_in: Gêneros do show."
   ]
  },
  {
   "cell_type": "code",
   "execution_count": 27,
   "id": "e71609f6",
   "metadata": {},
   "outputs": [],
   "source": [
    "# Carrega o dataset\n",
    "data = pd.read_csv('../data/netflix_titles.csv')"
   ]
  },
  {
   "cell_type": "markdown",
   "id": "7c5578e8",
   "metadata": {},
   "source": [
    "## Pré-processamento básico\n",
    "\n",
    "Realiza etapas fundamentais de limpeza e preparação dos dados textuais antes da vetorização com TF-IDF.\n",
    "\n",
    "- Verificam e preenchem valores nulos (NaN) nas colunas 'cast', 'country' e 'listed_in'.\n",
    "- Substituem valores ausentes por strings vazias ('').\n",
    "- Isso é importante porque o modelo de vetorização textual (TfidfVectorizer) não aceita valores nulos — ele espera apenas strings."
   ]
  },
  {
   "cell_type": "code",
   "execution_count": 28,
   "id": "ed910687",
   "metadata": {},
   "outputs": [],
   "source": [
    "# Preenche valores nulos com string vazia (para campos textuais)\n",
    "data['cast'] = data['cast'].fillna('')\n",
    "data['country'] = data['country'].fillna('')\n",
    "data['listed_in'] = data['listed_in'].fillna('')\n",
    "\n",
    "# Junta as colunas relevantes em uma só para vetorizacao\n",
    "data['conteudo'] = data['cast'] + ' ' + data['country'] + ' ' + data['listed_in']"
   ]
  },
  {
   "cell_type": "markdown",
   "id": "49338d7f",
   "metadata": {},
   "source": [
    "### Vetorização TF-IDF\n",
    "\n",
    "Transforma os dados textuais do catálogo da Netflix em representações vetoriais numéricas, permitindo comparar quão semelhantes são dois títulos com base em seu conteúdo."
   ]
  },
  {
   "cell_type": "code",
   "execution_count": 29,
   "id": "22acd21c",
   "metadata": {},
   "outputs": [],
   "source": [
    "#Transforma textos em vetores numéricos usando a técnica TF-IDF (Term Frequency-Inverse Document Frequency).\n",
    "#Remove palavras comuns do inglês (como \"the\", \"and\", \"is\") que não agregam significado à análise.\n",
    "vectorizer = TfidfVectorizer(stop_words='english')\n",
    "\n",
    "#Aprende o vocabulário dos textos na coluna 'conteudo' e transforma cada linha (título) em um vetor TF-IDF correspondente\n",
    "tfidf_matrix = vectorizer.fit_transform(data['conteudo'])\n",
    "\n",
    "# Calcula a similaridade do cosseno\n",
    "cosine_sim = cosine_similarity(tfidf_matrix, tfidf_matrix)"
   ]
  },
  {
   "cell_type": "markdown",
   "id": "dee42d1e",
   "metadata": {},
   "source": [
    "### Função de recomendação por título\n",
    "\n",
    "Essa função retorna os títulos mais semelhantes ao fornecido, com base na similaridade do cosseno entre os vetores TF-IDF dos conteúdos.\n",
    "\n",
    "- Cosine_sim[idx] retorna um vetor com a similaridade do título com todos os outros.\n",
    "- Enumerate associa cada similaridade ao respectivo índice do título no dataset.\n",
    "- A lista é ordenada da maior para a menor similaridade.\n",
    "- O primeiro resultado é o próprio título, então é removido com sim_scores[1:]."
   ]
  },
  {
   "cell_type": "code",
   "execution_count": 30,
   "id": "dbd95bad",
   "metadata": {},
   "outputs": [],
   "source": [
    "def get_recomendacoes(titulo, top_n=5):\n",
    "    # Verifica se o título existe\n",
    "    if titulo.lower() not in data['title'].str.lower().values:\n",
    "        return [\"Título não encontrado\"]\n",
    "\n",
    "    # Obtém o índice da linha correspondente ao título na base de dados.\n",
    "    idx = data[data['title'].str.lower() == titulo.lower()].index[0]\n",
    "\n",
    "    # Similaridades com todos os outros títulos\n",
    "    sim_scores = list(enumerate(cosine_sim[idx]))\n",
    "    sim_scores = sorted(sim_scores, key=lambda x: x[1], reverse=True)\n",
    "    sim_scores = sim_scores[1:top_n+1]  # ignora o próprio título\n",
    "\n",
    "    # Índices dos recomendados\n",
    "    indices = [i[0] for i in sim_scores]\n",
    "\n",
    "    return data[['title', 'type', 'release_year', 'rating', 'listed_in']].iloc[indices].to_dict(orient='records')"
   ]
  },
  {
   "cell_type": "markdown",
   "id": "7d822579",
   "metadata": {},
   "source": [
    "### Função de recomendação por campos\n",
    "\n",
    "Essa função gera recomendações de títulos da Netflix sem depender do título original. Em vez disso, utiliza campos como elenco (cast), país (country) e categorias (listed_in) para encontrar conteúdos semelhantes com base no significado textual."
   ]
  },
  {
   "cell_type": "code",
   "execution_count": 31,
   "id": "68338621",
   "metadata": {},
   "outputs": [],
   "source": [
    "def recomendar_por_campos(fields, top_n=5):\n",
    "    # Extrai os campos cast, country e listed_in do dicionário fields enviado pelo usuário.\n",
    "    # Usa .get() com valor padrão vazio ('') para evitar erros se alguma chave estiver ausente.\n",
    "    campos = [\n",
    "        fields.get('cast', ''),\n",
    "        fields.get('country', ''),\n",
    "        fields.get('listed_in', '')\n",
    "    ]\n",
    "\n",
    "    # Concatena todos os campos em uma única string (imitando o campo conteudo gerado durante o pré-processamento).\n",
    "    conteudo_novo = ' '.join(campos)\n",
    "\n",
    "    #Transforma a string criada (conteudo_novo) em um vetor TF-IDF usando o vectorizer já treinado\n",
    "    #Isso permite comparar semanticamente com o dataset completo.\n",
    "    vetor = vectorizer.transform([conteudo_novo])\n",
    "\n",
    "    #Calcula a similaridade do cosseno entre o vetor da entrada e todos os vetores do dataset original (tfidf_matrix).\n",
    "    #O resultado é uma lista com scores de similaridade.\n",
    "    sim_scores = cosine_similarity(vetor, tfidf_matrix).flatten()\n",
    "\n",
    "    #Ordena os índices dos maiores scores (conteúdos mais parecidos).\n",
    "    #Seleciona os top_n resultados\n",
    "    indices = np.argsort(sim_scores)[::-1][:top_n]\n",
    "\n",
    "    return data[['title', 'type', 'release_year']].iloc[indices].to_dict(orient='records')\n"
   ]
  },
  {
   "cell_type": "markdown",
   "id": "5317749f",
   "metadata": {},
   "source": [
    "### Exemplo de uso\n",
    "Este trecho executa chamadas manuais às duas funções principais de recomendação para verificar o funcionamento do sistema e observar os resultados diretamente"
   ]
  },
  {
   "cell_type": "code",
   "execution_count": 32,
   "id": "655262ac",
   "metadata": {},
   "outputs": [
    {
     "name": "stdout",
     "output_type": "stream",
     "text": [
      "{'title': 'Naruto Shippûden the Movie: Bonds', 'type': 'Movie', 'release_year': 2008, 'rating': 'TV-PG', 'listed_in': 'Action & Adventure, Anime Features, International Movies'}\n",
      "{'title': 'Naruto Shippuden the Movie: Blood Prison', 'type': 'Movie', 'release_year': 2011, 'rating': 'TV-14', 'listed_in': 'Action & Adventure, Anime Features, International Movies'}\n",
      "{'title': 'Naruto Shippuden : Blood Prison', 'type': 'Movie', 'release_year': 2011, 'rating': 'TV-14', 'listed_in': 'Action & Adventure, Anime Features, International Movies'}\n",
      "{'title': 'Naruto the Movie: Ninja Clash in the Land of Snow', 'type': 'Movie', 'release_year': 2004, 'rating': 'TV-PG', 'listed_in': 'Action & Adventure, Anime Features, International Movies'}\n",
      "{'title': 'Naruto Shippûden the Movie: The Will of Fire', 'type': 'Movie', 'release_year': 2009, 'rating': 'TV-PG', 'listed_in': 'Action & Adventure, Anime Features, International Movies'}\n",
      "{'title': 'Pop Team Epic', 'type': 'TV Show', 'release_year': 2018}\n",
      "{'title': '忍者ハットリくん', 'type': 'TV Show', 'release_year': 2012}\n",
      "{'title': 'Sol Levante', 'type': 'Movie', 'release_year': 2020}\n",
      "{'title': 'Pui Pui Molcar', 'type': 'TV Show', 'release_year': 2021}\n",
      "{'title': 'Behind \"The Cove\": The Quiet Japanese Speak Out', 'type': 'Movie', 'release_year': 2015}\n"
     ]
    }
   ],
   "source": [
    "# Chama a função get_recomendacoes usando o título \"Naruto\" como base.\n",
    "# Solicita os 5 conteúdos mais similares, com base na similaridade do cosseno entre os vetores TF-IDF.\n",
    "exemplo = get_recomendacoes('naruto', top_n=5)\n",
    "for item in exemplo:\n",
    "    print(item)\n",
    "\n",
    "# Chama a função recomendar_por_campos com campos específicos\n",
    "# Busca conteúdos que correspondam aos critérios fornecidos (país, ano de lançamento, classificação, categoria e duração).\n",
    "for item in recomendar_por_campos({'country': 'Japan', 'release_year': '2006', 'rating': 'TV-14', 'listed_in': 'Anime', 'duration': '9'}, top_n=5):\n",
    "    print(item)"
   ]
  },
  {
   "cell_type": "markdown",
   "id": "4567d835",
   "metadata": {},
   "source": [
    "### Exportação dos objetos treinados com pickle\n",
    "Exportar para disco os principais componentes do sistema de recomendação, permitindo que sejam reutilizados em uma aplicação externa (como uma API Flask) sem necessidade de recalcular tudo novamente."
   ]
  },
  {
   "cell_type": "code",
   "execution_count": 33,
   "id": "0798885a",
   "metadata": {},
   "outputs": [],
   "source": [
    "with open('../models/dados_netflix.pkl', 'wb') as f:\n",
    "    pickle.dump(data, f)\n",
    "\n",
    "with open('../models/cosine_sim.pkl', 'wb') as f:\n",
    "    pickle.dump(cosine_sim, f)\n",
    "\n",
    "with open('../models/vectorizer.pkl', 'wb') as f:\n",
    "    pickle.dump(vectorizer, f)"
   ]
  }
 ],
 "metadata": {
  "kernelspec": {
   "display_name": "Python 3",
   "language": "python",
   "name": "python3"
  },
  "language_info": {
   "codemirror_mode": {
    "name": "ipython",
    "version": 3
   },
   "file_extension": ".py",
   "mimetype": "text/x-python",
   "name": "python",
   "nbconvert_exporter": "python",
   "pygments_lexer": "ipython3",
   "version": "3.13.2"
  }
 },
 "nbformat": 4,
 "nbformat_minor": 5
}
